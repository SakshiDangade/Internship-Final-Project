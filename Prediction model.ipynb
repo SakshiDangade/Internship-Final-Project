{
  "nbformat": 4,
  "nbformat_minor": 0,
  "metadata": {
    "colab": {
      "provenance": []
    },
    "kernelspec": {
      "name": "python3",
      "display_name": "Python 3"
    },
    "language_info": {
      "name": "python"
    }
  },
  "cells": [
    {
      "cell_type": "code",
      "source": [
        "import pandas as pd\n",
        "\n",
        "# Load the data with PatientId as string\n",
        "df = pd.read_csv('appointments.csv', dtype={'PatientId': str})"
      ],
      "metadata": {
        "id": "UqpUtzeX5ALE"
      },
      "execution_count": 1,
      "outputs": []
    },
    {
      "cell_type": "code",
      "source": [
        "df.info()"
      ],
      "metadata": {
        "colab": {
          "base_uri": "https://localhost:8080/"
        },
        "id": "4Huaz5q56EX0",
        "outputId": "52d26ff8-df82-4283-da2a-769dc0cee856"
      },
      "execution_count": 2,
      "outputs": [
        {
          "output_type": "stream",
          "name": "stdout",
          "text": [
            "<class 'pandas.core.frame.DataFrame'>\n",
            "RangeIndex: 110527 entries, 0 to 110526\n",
            "Data columns (total 14 columns):\n",
            " #   Column          Non-Null Count   Dtype \n",
            "---  ------          --------------   ----- \n",
            " 0   PatientId       110527 non-null  object\n",
            " 1   AppointmentID   110527 non-null  int64 \n",
            " 2   Gender          110527 non-null  object\n",
            " 3   ScheduledDay    110527 non-null  object\n",
            " 4   AppointmentDay  110527 non-null  object\n",
            " 5   Age             110527 non-null  int64 \n",
            " 6   Neighbourhood   110527 non-null  object\n",
            " 7   Scholarship     110527 non-null  int64 \n",
            " 8   Hipertension    110527 non-null  int64 \n",
            " 9   Diabetes        110527 non-null  int64 \n",
            " 10  Alcoholism      110527 non-null  int64 \n",
            " 11  Handcap         110527 non-null  int64 \n",
            " 12  SMS_received    110527 non-null  int64 \n",
            " 13  No-show         110527 non-null  object\n",
            "dtypes: int64(8), object(6)\n",
            "memory usage: 11.8+ MB\n"
          ]
        }
      ]
    },
    {
      "cell_type": "code",
      "source": [
        "#Convert the columns to datetime format\n",
        "df['ScheduledDay']=pd.to_datetime(df['ScheduledDay'])\n",
        "df['AppointmentDay']=pd.to_datetime(df['AppointmentDay'])"
      ],
      "metadata": {
        "id": "hIDz2B_76cMI"
      },
      "execution_count": 3,
      "outputs": []
    },
    {
      "cell_type": "code",
      "source": [
        "print(\"Initial Shape:\",df.shape)"
      ],
      "metadata": {
        "colab": {
          "base_uri": "https://localhost:8080/"
        },
        "id": "oFn2OlHI6-bS",
        "outputId": "3bdfeae4-0dee-4a1a-ae1c-a8eab9f8cdb3"
      },
      "execution_count": 4,
      "outputs": [
        {
          "output_type": "stream",
          "name": "stdout",
          "text": [
            "Initial Shape: (110527, 14)\n"
          ]
        }
      ]
    },
    {
      "cell_type": "code",
      "source": [
        "#Changed datatype of columns ScheduledDay AppointmentDay to datetime format\n",
        "df.info()"
      ],
      "metadata": {
        "colab": {
          "base_uri": "https://localhost:8080/"
        },
        "id": "-BenzS1b6poA",
        "outputId": "015b0406-2cf8-4fb9-e3f7-de4716ab8f1b"
      },
      "execution_count": 5,
      "outputs": [
        {
          "output_type": "stream",
          "name": "stdout",
          "text": [
            "<class 'pandas.core.frame.DataFrame'>\n",
            "RangeIndex: 110527 entries, 0 to 110526\n",
            "Data columns (total 14 columns):\n",
            " #   Column          Non-Null Count   Dtype              \n",
            "---  ------          --------------   -----              \n",
            " 0   PatientId       110527 non-null  object             \n",
            " 1   AppointmentID   110527 non-null  int64              \n",
            " 2   Gender          110527 non-null  object             \n",
            " 3   ScheduledDay    110527 non-null  datetime64[ns, UTC]\n",
            " 4   AppointmentDay  110527 non-null  datetime64[ns, UTC]\n",
            " 5   Age             110527 non-null  int64              \n",
            " 6   Neighbourhood   110527 non-null  object             \n",
            " 7   Scholarship     110527 non-null  int64              \n",
            " 8   Hipertension    110527 non-null  int64              \n",
            " 9   Diabetes        110527 non-null  int64              \n",
            " 10  Alcoholism      110527 non-null  int64              \n",
            " 11  Handcap         110527 non-null  int64              \n",
            " 12  SMS_received    110527 non-null  int64              \n",
            " 13  No-show         110527 non-null  object             \n",
            "dtypes: datetime64[ns, UTC](2), int64(8), object(4)\n",
            "memory usage: 11.8+ MB\n"
          ]
        }
      ]
    },
    {
      "cell_type": "code",
      "source": [
        "#remove duplicated if found\n",
        "df = df.drop_duplicates()"
      ],
      "metadata": {
        "id": "t2Cy8oMo6scO"
      },
      "execution_count": 6,
      "outputs": []
    },
    {
      "cell_type": "code",
      "source": [
        "#rename the columns for better accessibility\n",
        "df = df.rename(columns={\n",
        "    'No-show': 'No_Show',\n",
        "    'Hipertension': 'Hypertension',\n",
        "    'Handcap': 'Handicap',\n",
        "    'SMS_received': 'SMS_Received'\n",
        "})\n"
      ],
      "metadata": {
        "id": "l2Lm49WLABGP"
      },
      "execution_count": 7,
      "outputs": []
    },
    {
      "cell_type": "code",
      "source": [
        "df"
      ],
      "metadata": {
        "colab": {
          "base_uri": "https://localhost:8080/",
          "height": 617
        },
        "id": "XSuaglg67Wbn",
        "outputId": "7623c0e3-271c-4028-ba54-549093666b53"
      },
      "execution_count": 8,
      "outputs": [
        {
          "output_type": "execute_result",
          "data": {
            "text/plain": [
              "              PatientId  AppointmentID Gender              ScheduledDay  \\\n",
              "0        29872499824296        5642903      F 2016-04-29 18:38:08+00:00   \n",
              "1       558997776694438        5642503      M 2016-04-29 16:08:27+00:00   \n",
              "2         4262962299951        5642549      F 2016-04-29 16:19:04+00:00   \n",
              "3          867951213174        5642828      F 2016-04-29 17:29:31+00:00   \n",
              "4         8841186448183        5642494      F 2016-04-29 16:07:23+00:00   \n",
              "...                 ...            ...    ...                       ...   \n",
              "110522    2572134369293        5651768      F 2016-05-03 09:15:35+00:00   \n",
              "110523    3596266328735        5650093      F 2016-05-03 07:27:33+00:00   \n",
              "110524   15576631729893        5630692      F 2016-04-27 16:03:52+00:00   \n",
              "110525   92134931435557        5630323      F 2016-04-27 15:09:23+00:00   \n",
              "110526  377511518121127        5629448      F 2016-04-27 13:30:56+00:00   \n",
              "\n",
              "                  AppointmentDay  Age      Neighbourhood  Scholarship  \\\n",
              "0      2016-04-29 00:00:00+00:00   62    JARDIM DA PENHA            0   \n",
              "1      2016-04-29 00:00:00+00:00   56    JARDIM DA PENHA            0   \n",
              "2      2016-04-29 00:00:00+00:00   62      MATA DA PRAIA            0   \n",
              "3      2016-04-29 00:00:00+00:00    8  PONTAL DE CAMBURI            0   \n",
              "4      2016-04-29 00:00:00+00:00   56    JARDIM DA PENHA            0   \n",
              "...                          ...  ...                ...          ...   \n",
              "110522 2016-06-07 00:00:00+00:00   56        MARIA ORTIZ            0   \n",
              "110523 2016-06-07 00:00:00+00:00   51        MARIA ORTIZ            0   \n",
              "110524 2016-06-07 00:00:00+00:00   21        MARIA ORTIZ            0   \n",
              "110525 2016-06-07 00:00:00+00:00   38        MARIA ORTIZ            0   \n",
              "110526 2016-06-07 00:00:00+00:00   54        MARIA ORTIZ            0   \n",
              "\n",
              "        Hypertension  Diabetes  Alcoholism  Handicap  SMS_Received No_Show  \n",
              "0                  1         0           0         0             0      No  \n",
              "1                  0         0           0         0             0      No  \n",
              "2                  0         0           0         0             0      No  \n",
              "3                  0         0           0         0             0      No  \n",
              "4                  1         1           0         0             0      No  \n",
              "...              ...       ...         ...       ...           ...     ...  \n",
              "110522             0         0           0         0             1      No  \n",
              "110523             0         0           0         0             1      No  \n",
              "110524             0         0           0         0             1      No  \n",
              "110525             0         0           0         0             1      No  \n",
              "110526             0         0           0         0             1      No  \n",
              "\n",
              "[110527 rows x 14 columns]"
            ],
            "text/html": [
              "\n",
              "  <div id=\"df-b7287882-b5a0-43b1-a871-8487ac6c564b\" class=\"colab-df-container\">\n",
              "    <div>\n",
              "<style scoped>\n",
              "    .dataframe tbody tr th:only-of-type {\n",
              "        vertical-align: middle;\n",
              "    }\n",
              "\n",
              "    .dataframe tbody tr th {\n",
              "        vertical-align: top;\n",
              "    }\n",
              "\n",
              "    .dataframe thead th {\n",
              "        text-align: right;\n",
              "    }\n",
              "</style>\n",
              "<table border=\"1\" class=\"dataframe\">\n",
              "  <thead>\n",
              "    <tr style=\"text-align: right;\">\n",
              "      <th></th>\n",
              "      <th>PatientId</th>\n",
              "      <th>AppointmentID</th>\n",
              "      <th>Gender</th>\n",
              "      <th>ScheduledDay</th>\n",
              "      <th>AppointmentDay</th>\n",
              "      <th>Age</th>\n",
              "      <th>Neighbourhood</th>\n",
              "      <th>Scholarship</th>\n",
              "      <th>Hypertension</th>\n",
              "      <th>Diabetes</th>\n",
              "      <th>Alcoholism</th>\n",
              "      <th>Handicap</th>\n",
              "      <th>SMS_Received</th>\n",
              "      <th>No_Show</th>\n",
              "    </tr>\n",
              "  </thead>\n",
              "  <tbody>\n",
              "    <tr>\n",
              "      <th>0</th>\n",
              "      <td>29872499824296</td>\n",
              "      <td>5642903</td>\n",
              "      <td>F</td>\n",
              "      <td>2016-04-29 18:38:08+00:00</td>\n",
              "      <td>2016-04-29 00:00:00+00:00</td>\n",
              "      <td>62</td>\n",
              "      <td>JARDIM DA PENHA</td>\n",
              "      <td>0</td>\n",
              "      <td>1</td>\n",
              "      <td>0</td>\n",
              "      <td>0</td>\n",
              "      <td>0</td>\n",
              "      <td>0</td>\n",
              "      <td>No</td>\n",
              "    </tr>\n",
              "    <tr>\n",
              "      <th>1</th>\n",
              "      <td>558997776694438</td>\n",
              "      <td>5642503</td>\n",
              "      <td>M</td>\n",
              "      <td>2016-04-29 16:08:27+00:00</td>\n",
              "      <td>2016-04-29 00:00:00+00:00</td>\n",
              "      <td>56</td>\n",
              "      <td>JARDIM DA PENHA</td>\n",
              "      <td>0</td>\n",
              "      <td>0</td>\n",
              "      <td>0</td>\n",
              "      <td>0</td>\n",
              "      <td>0</td>\n",
              "      <td>0</td>\n",
              "      <td>No</td>\n",
              "    </tr>\n",
              "    <tr>\n",
              "      <th>2</th>\n",
              "      <td>4262962299951</td>\n",
              "      <td>5642549</td>\n",
              "      <td>F</td>\n",
              "      <td>2016-04-29 16:19:04+00:00</td>\n",
              "      <td>2016-04-29 00:00:00+00:00</td>\n",
              "      <td>62</td>\n",
              "      <td>MATA DA PRAIA</td>\n",
              "      <td>0</td>\n",
              "      <td>0</td>\n",
              "      <td>0</td>\n",
              "      <td>0</td>\n",
              "      <td>0</td>\n",
              "      <td>0</td>\n",
              "      <td>No</td>\n",
              "    </tr>\n",
              "    <tr>\n",
              "      <th>3</th>\n",
              "      <td>867951213174</td>\n",
              "      <td>5642828</td>\n",
              "      <td>F</td>\n",
              "      <td>2016-04-29 17:29:31+00:00</td>\n",
              "      <td>2016-04-29 00:00:00+00:00</td>\n",
              "      <td>8</td>\n",
              "      <td>PONTAL DE CAMBURI</td>\n",
              "      <td>0</td>\n",
              "      <td>0</td>\n",
              "      <td>0</td>\n",
              "      <td>0</td>\n",
              "      <td>0</td>\n",
              "      <td>0</td>\n",
              "      <td>No</td>\n",
              "    </tr>\n",
              "    <tr>\n",
              "      <th>4</th>\n",
              "      <td>8841186448183</td>\n",
              "      <td>5642494</td>\n",
              "      <td>F</td>\n",
              "      <td>2016-04-29 16:07:23+00:00</td>\n",
              "      <td>2016-04-29 00:00:00+00:00</td>\n",
              "      <td>56</td>\n",
              "      <td>JARDIM DA PENHA</td>\n",
              "      <td>0</td>\n",
              "      <td>1</td>\n",
              "      <td>1</td>\n",
              "      <td>0</td>\n",
              "      <td>0</td>\n",
              "      <td>0</td>\n",
              "      <td>No</td>\n",
              "    </tr>\n",
              "    <tr>\n",
              "      <th>...</th>\n",
              "      <td>...</td>\n",
              "      <td>...</td>\n",
              "      <td>...</td>\n",
              "      <td>...</td>\n",
              "      <td>...</td>\n",
              "      <td>...</td>\n",
              "      <td>...</td>\n",
              "      <td>...</td>\n",
              "      <td>...</td>\n",
              "      <td>...</td>\n",
              "      <td>...</td>\n",
              "      <td>...</td>\n",
              "      <td>...</td>\n",
              "      <td>...</td>\n",
              "    </tr>\n",
              "    <tr>\n",
              "      <th>110522</th>\n",
              "      <td>2572134369293</td>\n",
              "      <td>5651768</td>\n",
              "      <td>F</td>\n",
              "      <td>2016-05-03 09:15:35+00:00</td>\n",
              "      <td>2016-06-07 00:00:00+00:00</td>\n",
              "      <td>56</td>\n",
              "      <td>MARIA ORTIZ</td>\n",
              "      <td>0</td>\n",
              "      <td>0</td>\n",
              "      <td>0</td>\n",
              "      <td>0</td>\n",
              "      <td>0</td>\n",
              "      <td>1</td>\n",
              "      <td>No</td>\n",
              "    </tr>\n",
              "    <tr>\n",
              "      <th>110523</th>\n",
              "      <td>3596266328735</td>\n",
              "      <td>5650093</td>\n",
              "      <td>F</td>\n",
              "      <td>2016-05-03 07:27:33+00:00</td>\n",
              "      <td>2016-06-07 00:00:00+00:00</td>\n",
              "      <td>51</td>\n",
              "      <td>MARIA ORTIZ</td>\n",
              "      <td>0</td>\n",
              "      <td>0</td>\n",
              "      <td>0</td>\n",
              "      <td>0</td>\n",
              "      <td>0</td>\n",
              "      <td>1</td>\n",
              "      <td>No</td>\n",
              "    </tr>\n",
              "    <tr>\n",
              "      <th>110524</th>\n",
              "      <td>15576631729893</td>\n",
              "      <td>5630692</td>\n",
              "      <td>F</td>\n",
              "      <td>2016-04-27 16:03:52+00:00</td>\n",
              "      <td>2016-06-07 00:00:00+00:00</td>\n",
              "      <td>21</td>\n",
              "      <td>MARIA ORTIZ</td>\n",
              "      <td>0</td>\n",
              "      <td>0</td>\n",
              "      <td>0</td>\n",
              "      <td>0</td>\n",
              "      <td>0</td>\n",
              "      <td>1</td>\n",
              "      <td>No</td>\n",
              "    </tr>\n",
              "    <tr>\n",
              "      <th>110525</th>\n",
              "      <td>92134931435557</td>\n",
              "      <td>5630323</td>\n",
              "      <td>F</td>\n",
              "      <td>2016-04-27 15:09:23+00:00</td>\n",
              "      <td>2016-06-07 00:00:00+00:00</td>\n",
              "      <td>38</td>\n",
              "      <td>MARIA ORTIZ</td>\n",
              "      <td>0</td>\n",
              "      <td>0</td>\n",
              "      <td>0</td>\n",
              "      <td>0</td>\n",
              "      <td>0</td>\n",
              "      <td>1</td>\n",
              "      <td>No</td>\n",
              "    </tr>\n",
              "    <tr>\n",
              "      <th>110526</th>\n",
              "      <td>377511518121127</td>\n",
              "      <td>5629448</td>\n",
              "      <td>F</td>\n",
              "      <td>2016-04-27 13:30:56+00:00</td>\n",
              "      <td>2016-06-07 00:00:00+00:00</td>\n",
              "      <td>54</td>\n",
              "      <td>MARIA ORTIZ</td>\n",
              "      <td>0</td>\n",
              "      <td>0</td>\n",
              "      <td>0</td>\n",
              "      <td>0</td>\n",
              "      <td>0</td>\n",
              "      <td>1</td>\n",
              "      <td>No</td>\n",
              "    </tr>\n",
              "  </tbody>\n",
              "</table>\n",
              "<p>110527 rows × 14 columns</p>\n",
              "</div>\n",
              "    <div class=\"colab-df-buttons\">\n",
              "\n",
              "  <div class=\"colab-df-container\">\n",
              "    <button class=\"colab-df-convert\" onclick=\"convertToInteractive('df-b7287882-b5a0-43b1-a871-8487ac6c564b')\"\n",
              "            title=\"Convert this dataframe to an interactive table.\"\n",
              "            style=\"display:none;\">\n",
              "\n",
              "  <svg xmlns=\"http://www.w3.org/2000/svg\" height=\"24px\" viewBox=\"0 -960 960 960\">\n",
              "    <path d=\"M120-120v-720h720v720H120Zm60-500h600v-160H180v160Zm220 220h160v-160H400v160Zm0 220h160v-160H400v160ZM180-400h160v-160H180v160Zm440 0h160v-160H620v160ZM180-180h160v-160H180v160Zm440 0h160v-160H620v160Z\"/>\n",
              "  </svg>\n",
              "    </button>\n",
              "\n",
              "  <style>\n",
              "    .colab-df-container {\n",
              "      display:flex;\n",
              "      gap: 12px;\n",
              "    }\n",
              "\n",
              "    .colab-df-convert {\n",
              "      background-color: #E8F0FE;\n",
              "      border: none;\n",
              "      border-radius: 50%;\n",
              "      cursor: pointer;\n",
              "      display: none;\n",
              "      fill: #1967D2;\n",
              "      height: 32px;\n",
              "      padding: 0 0 0 0;\n",
              "      width: 32px;\n",
              "    }\n",
              "\n",
              "    .colab-df-convert:hover {\n",
              "      background-color: #E2EBFA;\n",
              "      box-shadow: 0px 1px 2px rgba(60, 64, 67, 0.3), 0px 1px 3px 1px rgba(60, 64, 67, 0.15);\n",
              "      fill: #174EA6;\n",
              "    }\n",
              "\n",
              "    .colab-df-buttons div {\n",
              "      margin-bottom: 4px;\n",
              "    }\n",
              "\n",
              "    [theme=dark] .colab-df-convert {\n",
              "      background-color: #3B4455;\n",
              "      fill: #D2E3FC;\n",
              "    }\n",
              "\n",
              "    [theme=dark] .colab-df-convert:hover {\n",
              "      background-color: #434B5C;\n",
              "      box-shadow: 0px 1px 3px 1px rgba(0, 0, 0, 0.15);\n",
              "      filter: drop-shadow(0px 1px 2px rgba(0, 0, 0, 0.3));\n",
              "      fill: #FFFFFF;\n",
              "    }\n",
              "  </style>\n",
              "\n",
              "    <script>\n",
              "      const buttonEl =\n",
              "        document.querySelector('#df-b7287882-b5a0-43b1-a871-8487ac6c564b button.colab-df-convert');\n",
              "      buttonEl.style.display =\n",
              "        google.colab.kernel.accessAllowed ? 'block' : 'none';\n",
              "\n",
              "      async function convertToInteractive(key) {\n",
              "        const element = document.querySelector('#df-b7287882-b5a0-43b1-a871-8487ac6c564b');\n",
              "        const dataTable =\n",
              "          await google.colab.kernel.invokeFunction('convertToInteractive',\n",
              "                                                    [key], {});\n",
              "        if (!dataTable) return;\n",
              "\n",
              "        const docLinkHtml = 'Like what you see? Visit the ' +\n",
              "          '<a target=\"_blank\" href=https://colab.research.google.com/notebooks/data_table.ipynb>data table notebook</a>'\n",
              "          + ' to learn more about interactive tables.';\n",
              "        element.innerHTML = '';\n",
              "        dataTable['output_type'] = 'display_data';\n",
              "        await google.colab.output.renderOutput(dataTable, element);\n",
              "        const docLink = document.createElement('div');\n",
              "        docLink.innerHTML = docLinkHtml;\n",
              "        element.appendChild(docLink);\n",
              "      }\n",
              "    </script>\n",
              "  </div>\n",
              "\n",
              "\n",
              "    <div id=\"df-73df87c6-a05c-4584-8ace-9bbac266ce22\">\n",
              "      <button class=\"colab-df-quickchart\" onclick=\"quickchart('df-73df87c6-a05c-4584-8ace-9bbac266ce22')\"\n",
              "                title=\"Suggest charts\"\n",
              "                style=\"display:none;\">\n",
              "\n",
              "<svg xmlns=\"http://www.w3.org/2000/svg\" height=\"24px\"viewBox=\"0 0 24 24\"\n",
              "     width=\"24px\">\n",
              "    <g>\n",
              "        <path d=\"M19 3H5c-1.1 0-2 .9-2 2v14c0 1.1.9 2 2 2h14c1.1 0 2-.9 2-2V5c0-1.1-.9-2-2-2zM9 17H7v-7h2v7zm4 0h-2V7h2v10zm4 0h-2v-4h2v4z\"/>\n",
              "    </g>\n",
              "</svg>\n",
              "      </button>\n",
              "\n",
              "<style>\n",
              "  .colab-df-quickchart {\n",
              "      --bg-color: #E8F0FE;\n",
              "      --fill-color: #1967D2;\n",
              "      --hover-bg-color: #E2EBFA;\n",
              "      --hover-fill-color: #174EA6;\n",
              "      --disabled-fill-color: #AAA;\n",
              "      --disabled-bg-color: #DDD;\n",
              "  }\n",
              "\n",
              "  [theme=dark] .colab-df-quickchart {\n",
              "      --bg-color: #3B4455;\n",
              "      --fill-color: #D2E3FC;\n",
              "      --hover-bg-color: #434B5C;\n",
              "      --hover-fill-color: #FFFFFF;\n",
              "      --disabled-bg-color: #3B4455;\n",
              "      --disabled-fill-color: #666;\n",
              "  }\n",
              "\n",
              "  .colab-df-quickchart {\n",
              "    background-color: var(--bg-color);\n",
              "    border: none;\n",
              "    border-radius: 50%;\n",
              "    cursor: pointer;\n",
              "    display: none;\n",
              "    fill: var(--fill-color);\n",
              "    height: 32px;\n",
              "    padding: 0;\n",
              "    width: 32px;\n",
              "  }\n",
              "\n",
              "  .colab-df-quickchart:hover {\n",
              "    background-color: var(--hover-bg-color);\n",
              "    box-shadow: 0 1px 2px rgba(60, 64, 67, 0.3), 0 1px 3px 1px rgba(60, 64, 67, 0.15);\n",
              "    fill: var(--button-hover-fill-color);\n",
              "  }\n",
              "\n",
              "  .colab-df-quickchart-complete:disabled,\n",
              "  .colab-df-quickchart-complete:disabled:hover {\n",
              "    background-color: var(--disabled-bg-color);\n",
              "    fill: var(--disabled-fill-color);\n",
              "    box-shadow: none;\n",
              "  }\n",
              "\n",
              "  .colab-df-spinner {\n",
              "    border: 2px solid var(--fill-color);\n",
              "    border-color: transparent;\n",
              "    border-bottom-color: var(--fill-color);\n",
              "    animation:\n",
              "      spin 1s steps(1) infinite;\n",
              "  }\n",
              "\n",
              "  @keyframes spin {\n",
              "    0% {\n",
              "      border-color: transparent;\n",
              "      border-bottom-color: var(--fill-color);\n",
              "      border-left-color: var(--fill-color);\n",
              "    }\n",
              "    20% {\n",
              "      border-color: transparent;\n",
              "      border-left-color: var(--fill-color);\n",
              "      border-top-color: var(--fill-color);\n",
              "    }\n",
              "    30% {\n",
              "      border-color: transparent;\n",
              "      border-left-color: var(--fill-color);\n",
              "      border-top-color: var(--fill-color);\n",
              "      border-right-color: var(--fill-color);\n",
              "    }\n",
              "    40% {\n",
              "      border-color: transparent;\n",
              "      border-right-color: var(--fill-color);\n",
              "      border-top-color: var(--fill-color);\n",
              "    }\n",
              "    60% {\n",
              "      border-color: transparent;\n",
              "      border-right-color: var(--fill-color);\n",
              "    }\n",
              "    80% {\n",
              "      border-color: transparent;\n",
              "      border-right-color: var(--fill-color);\n",
              "      border-bottom-color: var(--fill-color);\n",
              "    }\n",
              "    90% {\n",
              "      border-color: transparent;\n",
              "      border-bottom-color: var(--fill-color);\n",
              "    }\n",
              "  }\n",
              "</style>\n",
              "\n",
              "      <script>\n",
              "        async function quickchart(key) {\n",
              "          const quickchartButtonEl =\n",
              "            document.querySelector('#' + key + ' button');\n",
              "          quickchartButtonEl.disabled = true;  // To prevent multiple clicks.\n",
              "          quickchartButtonEl.classList.add('colab-df-spinner');\n",
              "          try {\n",
              "            const charts = await google.colab.kernel.invokeFunction(\n",
              "                'suggestCharts', [key], {});\n",
              "          } catch (error) {\n",
              "            console.error('Error during call to suggestCharts:', error);\n",
              "          }\n",
              "          quickchartButtonEl.classList.remove('colab-df-spinner');\n",
              "          quickchartButtonEl.classList.add('colab-df-quickchart-complete');\n",
              "        }\n",
              "        (() => {\n",
              "          let quickchartButtonEl =\n",
              "            document.querySelector('#df-73df87c6-a05c-4584-8ace-9bbac266ce22 button');\n",
              "          quickchartButtonEl.style.display =\n",
              "            google.colab.kernel.accessAllowed ? 'block' : 'none';\n",
              "        })();\n",
              "      </script>\n",
              "    </div>\n",
              "\n",
              "  <div id=\"id_e5bd0f11-199d-4ad2-a05a-622940ef46db\">\n",
              "    <style>\n",
              "      .colab-df-generate {\n",
              "        background-color: #E8F0FE;\n",
              "        border: none;\n",
              "        border-radius: 50%;\n",
              "        cursor: pointer;\n",
              "        display: none;\n",
              "        fill: #1967D2;\n",
              "        height: 32px;\n",
              "        padding: 0 0 0 0;\n",
              "        width: 32px;\n",
              "      }\n",
              "\n",
              "      .colab-df-generate:hover {\n",
              "        background-color: #E2EBFA;\n",
              "        box-shadow: 0px 1px 2px rgba(60, 64, 67, 0.3), 0px 1px 3px 1px rgba(60, 64, 67, 0.15);\n",
              "        fill: #174EA6;\n",
              "      }\n",
              "\n",
              "      [theme=dark] .colab-df-generate {\n",
              "        background-color: #3B4455;\n",
              "        fill: #D2E3FC;\n",
              "      }\n",
              "\n",
              "      [theme=dark] .colab-df-generate:hover {\n",
              "        background-color: #434B5C;\n",
              "        box-shadow: 0px 1px 3px 1px rgba(0, 0, 0, 0.15);\n",
              "        filter: drop-shadow(0px 1px 2px rgba(0, 0, 0, 0.3));\n",
              "        fill: #FFFFFF;\n",
              "      }\n",
              "    </style>\n",
              "    <button class=\"colab-df-generate\" onclick=\"generateWithVariable('df')\"\n",
              "            title=\"Generate code using this dataframe.\"\n",
              "            style=\"display:none;\">\n",
              "\n",
              "  <svg xmlns=\"http://www.w3.org/2000/svg\" height=\"24px\"viewBox=\"0 0 24 24\"\n",
              "       width=\"24px\">\n",
              "    <path d=\"M7,19H8.4L18.45,9,17,7.55,7,17.6ZM5,21V16.75L18.45,3.32a2,2,0,0,1,2.83,0l1.4,1.43a1.91,1.91,0,0,1,.58,1.4,1.91,1.91,0,0,1-.58,1.4L9.25,21ZM18.45,9,17,7.55Zm-12,3A5.31,5.31,0,0,0,4.9,8.1,5.31,5.31,0,0,0,1,6.5,5.31,5.31,0,0,0,4.9,4.9,5.31,5.31,0,0,0,6.5,1,5.31,5.31,0,0,0,8.1,4.9,5.31,5.31,0,0,0,12,6.5,5.46,5.46,0,0,0,6.5,12Z\"/>\n",
              "  </svg>\n",
              "    </button>\n",
              "    <script>\n",
              "      (() => {\n",
              "      const buttonEl =\n",
              "        document.querySelector('#id_e5bd0f11-199d-4ad2-a05a-622940ef46db button.colab-df-generate');\n",
              "      buttonEl.style.display =\n",
              "        google.colab.kernel.accessAllowed ? 'block' : 'none';\n",
              "\n",
              "      buttonEl.onclick = () => {\n",
              "        google.colab.notebook.generateWithVariable('df');\n",
              "      }\n",
              "      })();\n",
              "    </script>\n",
              "  </div>\n",
              "\n",
              "    </div>\n",
              "  </div>\n"
            ],
            "application/vnd.google.colaboratory.intrinsic+json": {
              "type": "dataframe",
              "variable_name": "df"
            }
          },
          "metadata": {},
          "execution_count": 8
        }
      ]
    },
    {
      "cell_type": "code",
      "source": [
        "#Print missing values,found there are no missing values so need to drop any rows\n",
        "print(\"Missing Values:\",df.isnull().sum())"
      ],
      "metadata": {
        "colab": {
          "base_uri": "https://localhost:8080/"
        },
        "id": "GtUZVSxiAAG8",
        "outputId": "3c086809-8519-49a0-9dd8-4c094e7353e7"
      },
      "execution_count": 9,
      "outputs": [
        {
          "output_type": "stream",
          "name": "stdout",
          "text": [
            "Missing Values: PatientId         0\n",
            "AppointmentID     0\n",
            "Gender            0\n",
            "ScheduledDay      0\n",
            "AppointmentDay    0\n",
            "Age               0\n",
            "Neighbourhood     0\n",
            "Scholarship       0\n",
            "Hypertension      0\n",
            "Diabetes          0\n",
            "Alcoholism        0\n",
            "Handicap          0\n",
            "SMS_Received      0\n",
            "No_Show           0\n",
            "dtype: int64\n"
          ]
        }
      ]
    },
    {
      "cell_type": "code",
      "source": [
        "#include only those data in which Age>=0 and Age<=100\n",
        "df=df[df['Age']>=0]\n",
        "df=df[df['Age']<=100]"
      ],
      "metadata": {
        "id": "IDEWX-3V_1CQ"
      },
      "execution_count": 10,
      "outputs": []
    },
    {
      "cell_type": "code",
      "source": [
        "#Saved cleaned data as csv\n",
        "df.to_csv('cleaned_appointments.csv', index=False)"
      ],
      "metadata": {
        "id": "kXl1lIQ-AgD8"
      },
      "execution_count": 45,
      "outputs": []
    },
    {
      "cell_type": "code",
      "source": [
        "print(\"\\nCleaned dataset shape:\", df.shape)"
      ],
      "metadata": {
        "colab": {
          "base_uri": "https://localhost:8080/"
        },
        "id": "vjfJYWbvAk9S",
        "outputId": "b471622b-d931-42a1-a689-c1b5ab6d5275"
      },
      "execution_count": 12,
      "outputs": [
        {
          "output_type": "stream",
          "name": "stdout",
          "text": [
            "\n",
            "Cleaned dataset shape: (110519, 14)\n"
          ]
        }
      ]
    },
    {
      "cell_type": "markdown",
      "source": [
        "Prediction model"
      ],
      "metadata": {
        "id": "Mx5aiTGhT8N5"
      }
    },
    {
      "cell_type": "code",
      "source": [
        "#Created 3 new columns from AppointmentDay and ScheduledDay Column\n",
        "df['AppointmentWeekday'] = df['AppointmentDay'].dt.weekday  # 0 = Monday, 6 = Sunday\n",
        "df['ScheduledWeekday'] = df['ScheduledDay'].dt.weekday\n",
        "df['DaysBetween'] = (df['AppointmentDay'] - df['ScheduleDay']).dt.days"
      ],
      "metadata": {
        "id": "JJPNfFtABl4B"
      },
      "execution_count": 16,
      "outputs": []
    },
    {
      "cell_type": "code",
      "source": [
        "df.drop(columns=['AppointmentDay', 'ScheduledDay'], inplace=True)"
      ],
      "metadata": {
        "id": "vlo4Po26Bq6a"
      },
      "execution_count": 18,
      "outputs": []
    },
    {
      "cell_type": "code",
      "source": [
        "from sklearn.model_selection import train_test_split\n",
        "from sklearn.tree import DecisionTreeClassifier\n",
        "from sklearn.metrics import accuracy_score, classification_report, confusion_matrix"
      ],
      "metadata": {
        "id": "5cRrSJLOBzRg"
      },
      "execution_count": 19,
      "outputs": []
    },
    {
      "cell_type": "code",
      "source": [
        "# Convert target column to binary: 'No' -> 0 (show), 'Yes' -> 1 (no-show)\n",
        "df['No_Show']=df['No_Show'].map({'No':0,'Yes':1})"
      ],
      "metadata": {
        "id": "NSNKLPl1CW8y"
      },
      "execution_count": 20,
      "outputs": []
    },
    {
      "cell_type": "code",
      "source": [
        "#Encode categorical variables (e.g., 'Gender', 'Neighbourhood')\n",
        "df=pd.get_dummies(df, columns=['Gender', 'Neighbourhood'], drop_first=True)"
      ],
      "metadata": {
        "colab": {
          "base_uri": "https://localhost:8080/",
          "height": 287
        },
        "id": "9QpxSsaoCjO3",
        "outputId": "ac6db533-0b03-4ccb-8e3e-2d4841f75896"
      },
      "execution_count": 46,
      "outputs": [
        {
          "output_type": "error",
          "ename": "KeyError",
          "evalue": "\"None of [Index(['Gender', 'Neighbourhood'], dtype='object')] are in the [columns]\"",
          "traceback": [
            "\u001b[0;31m---------------------------------------------------------------------------\u001b[0m",
            "\u001b[0;31mKeyError\u001b[0m                                  Traceback (most recent call last)",
            "\u001b[0;32m<ipython-input-46-9403ed112309>\u001b[0m in \u001b[0;36m<cell line: 0>\u001b[0;34m()\u001b[0m\n\u001b[0;32m----> 1\u001b[0;31m \u001b[0mdf\u001b[0m\u001b[0;34m=\u001b[0m\u001b[0mpd\u001b[0m\u001b[0;34m.\u001b[0m\u001b[0mget_dummies\u001b[0m\u001b[0;34m(\u001b[0m\u001b[0mdf\u001b[0m\u001b[0;34m,\u001b[0m \u001b[0mcolumns\u001b[0m\u001b[0;34m=\u001b[0m\u001b[0;34m[\u001b[0m\u001b[0;34m'Gender'\u001b[0m\u001b[0;34m,\u001b[0m \u001b[0;34m'Neighbourhood'\u001b[0m\u001b[0;34m]\u001b[0m\u001b[0;34m,\u001b[0m \u001b[0mdrop_first\u001b[0m\u001b[0;34m=\u001b[0m\u001b[0;32mTrue\u001b[0m\u001b[0;34m)\u001b[0m\u001b[0;34m\u001b[0m\u001b[0;34m\u001b[0m\u001b[0m\n\u001b[0m",
            "\u001b[0;32m/usr/local/lib/python3.11/dist-packages/pandas/core/reshape/encoding.py\u001b[0m in \u001b[0;36mget_dummies\u001b[0;34m(data, prefix, prefix_sep, dummy_na, columns, sparse, drop_first, dtype)\u001b[0m\n\u001b[1;32m    167\u001b[0m             \u001b[0;32mraise\u001b[0m \u001b[0mTypeError\u001b[0m\u001b[0;34m(\u001b[0m\u001b[0;34m\"Input must be a list-like for parameter `columns`\"\u001b[0m\u001b[0;34m)\u001b[0m\u001b[0;34m\u001b[0m\u001b[0;34m\u001b[0m\u001b[0m\n\u001b[1;32m    168\u001b[0m         \u001b[0;32melse\u001b[0m\u001b[0;34m:\u001b[0m\u001b[0;34m\u001b[0m\u001b[0;34m\u001b[0m\u001b[0m\n\u001b[0;32m--> 169\u001b[0;31m             \u001b[0mdata_to_encode\u001b[0m \u001b[0;34m=\u001b[0m \u001b[0mdata\u001b[0m\u001b[0;34m[\u001b[0m\u001b[0mcolumns\u001b[0m\u001b[0;34m]\u001b[0m\u001b[0;34m\u001b[0m\u001b[0;34m\u001b[0m\u001b[0m\n\u001b[0m\u001b[1;32m    170\u001b[0m \u001b[0;34m\u001b[0m\u001b[0m\n\u001b[1;32m    171\u001b[0m         \u001b[0;31m# validate prefixes and separator to avoid silently dropping cols\u001b[0m\u001b[0;34m\u001b[0m\u001b[0;34m\u001b[0m\u001b[0m\n",
            "\u001b[0;32m/usr/local/lib/python3.11/dist-packages/pandas/core/frame.py\u001b[0m in \u001b[0;36m__getitem__\u001b[0;34m(self, key)\u001b[0m\n\u001b[1;32m   4106\u001b[0m             \u001b[0;32mif\u001b[0m \u001b[0mis_iterator\u001b[0m\u001b[0;34m(\u001b[0m\u001b[0mkey\u001b[0m\u001b[0;34m)\u001b[0m\u001b[0;34m:\u001b[0m\u001b[0;34m\u001b[0m\u001b[0;34m\u001b[0m\u001b[0m\n\u001b[1;32m   4107\u001b[0m                 \u001b[0mkey\u001b[0m \u001b[0;34m=\u001b[0m \u001b[0mlist\u001b[0m\u001b[0;34m(\u001b[0m\u001b[0mkey\u001b[0m\u001b[0;34m)\u001b[0m\u001b[0;34m\u001b[0m\u001b[0;34m\u001b[0m\u001b[0m\n\u001b[0;32m-> 4108\u001b[0;31m             \u001b[0mindexer\u001b[0m \u001b[0;34m=\u001b[0m \u001b[0mself\u001b[0m\u001b[0;34m.\u001b[0m\u001b[0mcolumns\u001b[0m\u001b[0;34m.\u001b[0m\u001b[0m_get_indexer_strict\u001b[0m\u001b[0;34m(\u001b[0m\u001b[0mkey\u001b[0m\u001b[0;34m,\u001b[0m \u001b[0;34m\"columns\"\u001b[0m\u001b[0;34m)\u001b[0m\u001b[0;34m[\u001b[0m\u001b[0;36m1\u001b[0m\u001b[0;34m]\u001b[0m\u001b[0;34m\u001b[0m\u001b[0;34m\u001b[0m\u001b[0m\n\u001b[0m\u001b[1;32m   4109\u001b[0m \u001b[0;34m\u001b[0m\u001b[0m\n\u001b[1;32m   4110\u001b[0m         \u001b[0;31m# take() does not accept boolean indexers\u001b[0m\u001b[0;34m\u001b[0m\u001b[0;34m\u001b[0m\u001b[0m\n",
            "\u001b[0;32m/usr/local/lib/python3.11/dist-packages/pandas/core/indexes/base.py\u001b[0m in \u001b[0;36m_get_indexer_strict\u001b[0;34m(self, key, axis_name)\u001b[0m\n\u001b[1;32m   6198\u001b[0m             \u001b[0mkeyarr\u001b[0m\u001b[0;34m,\u001b[0m \u001b[0mindexer\u001b[0m\u001b[0;34m,\u001b[0m \u001b[0mnew_indexer\u001b[0m \u001b[0;34m=\u001b[0m \u001b[0mself\u001b[0m\u001b[0;34m.\u001b[0m\u001b[0m_reindex_non_unique\u001b[0m\u001b[0;34m(\u001b[0m\u001b[0mkeyarr\u001b[0m\u001b[0;34m)\u001b[0m\u001b[0;34m\u001b[0m\u001b[0;34m\u001b[0m\u001b[0m\n\u001b[1;32m   6199\u001b[0m \u001b[0;34m\u001b[0m\u001b[0m\n\u001b[0;32m-> 6200\u001b[0;31m         \u001b[0mself\u001b[0m\u001b[0;34m.\u001b[0m\u001b[0m_raise_if_missing\u001b[0m\u001b[0;34m(\u001b[0m\u001b[0mkeyarr\u001b[0m\u001b[0;34m,\u001b[0m \u001b[0mindexer\u001b[0m\u001b[0;34m,\u001b[0m \u001b[0maxis_name\u001b[0m\u001b[0;34m)\u001b[0m\u001b[0;34m\u001b[0m\u001b[0;34m\u001b[0m\u001b[0m\n\u001b[0m\u001b[1;32m   6201\u001b[0m \u001b[0;34m\u001b[0m\u001b[0m\n\u001b[1;32m   6202\u001b[0m         \u001b[0mkeyarr\u001b[0m \u001b[0;34m=\u001b[0m \u001b[0mself\u001b[0m\u001b[0;34m.\u001b[0m\u001b[0mtake\u001b[0m\u001b[0;34m(\u001b[0m\u001b[0mindexer\u001b[0m\u001b[0;34m)\u001b[0m\u001b[0;34m\u001b[0m\u001b[0;34m\u001b[0m\u001b[0m\n",
            "\u001b[0;32m/usr/local/lib/python3.11/dist-packages/pandas/core/indexes/base.py\u001b[0m in \u001b[0;36m_raise_if_missing\u001b[0;34m(self, key, indexer, axis_name)\u001b[0m\n\u001b[1;32m   6247\u001b[0m         \u001b[0;32mif\u001b[0m \u001b[0mnmissing\u001b[0m\u001b[0;34m:\u001b[0m\u001b[0;34m\u001b[0m\u001b[0;34m\u001b[0m\u001b[0m\n\u001b[1;32m   6248\u001b[0m             \u001b[0;32mif\u001b[0m \u001b[0mnmissing\u001b[0m \u001b[0;34m==\u001b[0m \u001b[0mlen\u001b[0m\u001b[0;34m(\u001b[0m\u001b[0mindexer\u001b[0m\u001b[0;34m)\u001b[0m\u001b[0;34m:\u001b[0m\u001b[0;34m\u001b[0m\u001b[0;34m\u001b[0m\u001b[0m\n\u001b[0;32m-> 6249\u001b[0;31m                 \u001b[0;32mraise\u001b[0m \u001b[0mKeyError\u001b[0m\u001b[0;34m(\u001b[0m\u001b[0;34mf\"None of [{key}] are in the [{axis_name}]\"\u001b[0m\u001b[0;34m)\u001b[0m\u001b[0;34m\u001b[0m\u001b[0;34m\u001b[0m\u001b[0m\n\u001b[0m\u001b[1;32m   6250\u001b[0m \u001b[0;34m\u001b[0m\u001b[0m\n\u001b[1;32m   6251\u001b[0m             \u001b[0mnot_found\u001b[0m \u001b[0;34m=\u001b[0m \u001b[0mlist\u001b[0m\u001b[0;34m(\u001b[0m\u001b[0mensure_index\u001b[0m\u001b[0;34m(\u001b[0m\u001b[0mkey\u001b[0m\u001b[0;34m)\u001b[0m\u001b[0;34m[\u001b[0m\u001b[0mmissing_mask\u001b[0m\u001b[0;34m.\u001b[0m\u001b[0mnonzero\u001b[0m\u001b[0;34m(\u001b[0m\u001b[0;34m)\u001b[0m\u001b[0;34m[\u001b[0m\u001b[0;36m0\u001b[0m\u001b[0;34m]\u001b[0m\u001b[0;34m]\u001b[0m\u001b[0;34m.\u001b[0m\u001b[0munique\u001b[0m\u001b[0;34m(\u001b[0m\u001b[0;34m)\u001b[0m\u001b[0;34m)\u001b[0m\u001b[0;34m\u001b[0m\u001b[0;34m\u001b[0m\u001b[0m\n",
            "\u001b[0;31mKeyError\u001b[0m: \"None of [Index(['Gender', 'Neighbourhood'], dtype='object')] are in the [columns]\""
          ]
        }
      ]
    },
    {
      "cell_type": "code",
      "source": [
        "#Define features (X) and target (y)\n",
        "X=df.drop('No_Show', axis=1)\n",
        "y=df['No_Show']"
      ],
      "metadata": {
        "id": "3lEZUuPmCycN"
      },
      "execution_count": 22,
      "outputs": []
    },
    {
      "cell_type": "code",
      "source": [
        "#Split into train and test sets (80% training, 20% testing)\n",
        "X_train, X_test, y_train, y_test = train_test_split(X, y, test_size=0.2, random_state=42)"
      ],
      "metadata": {
        "id": "qb8C8k3AC_YZ"
      },
      "execution_count": 23,
      "outputs": []
    },
    {
      "cell_type": "code",
      "source": [
        "#Create the decision tree model with balanced class weight\n",
        "model = DecisionTreeClassifier(\n",
        "    class_weight='balanced',\n",
        "    max_depth=6,\n",
        "    min_samples_split=10,\n",
        "    min_samples_leaf=5,\n",
        "    random_state=42\n",
        ")"
      ],
      "metadata": {
        "id": "VfRwrjRKDN7W"
      },
      "execution_count": 24,
      "outputs": []
    },
    {
      "cell_type": "code",
      "source": [
        "model.fit(X_train, y_train)\n",
        "\n",
        "#Predict on test data\n",
        "y_pred = model.predict(X_test)"
      ],
      "metadata": {
        "id": "CwfG2RWCDr_U"
      },
      "execution_count": 25,
      "outputs": []
    },
    {
      "cell_type": "code",
      "source": [
        "#Evaluate the model\n",
        "print(\"Accuracy:\", accuracy_score(y_test, y_pred))\n",
        "print(\"\\nClassification Report:\\n\", classification_report(y_test, y_pred))\n",
        "print(\"\\nConfusion Matrix:\\n\", confusion_matrix(y_test, y_pred))"
      ],
      "metadata": {
        "colab": {
          "base_uri": "https://localhost:8080/"
        },
        "id": "k8TpAVS2DySL",
        "outputId": "641c0b00-a7a3-43f5-e095-0a126e8577f5"
      },
      "execution_count": 26,
      "outputs": [
        {
          "output_type": "stream",
          "name": "stdout",
          "text": [
            "Accuracy: 0.583966702859211\n",
            "\n",
            "Classification Report:\n",
            "               precision    recall  f1-score   support\n",
            "\n",
            "           0       0.92      0.53      0.67     17684\n",
            "           1       0.30      0.81      0.44      4420\n",
            "\n",
            "    accuracy                           0.58     22104\n",
            "   macro avg       0.61      0.67      0.55     22104\n",
            "weighted avg       0.80      0.58      0.62     22104\n",
            "\n",
            "\n",
            "Confusion Matrix:\n",
            " [[9309 8375]\n",
            " [ 821 3599]]\n"
          ]
        }
      ]
    },
    {
      "cell_type": "code",
      "source": [
        "#RandomForest\n",
        "from sklearn.ensemble import RandomForestClassifier\n",
        "\n",
        "rf_model = RandomForestClassifier(class_weight='balanced', n_estimators=100, random_state=42)\n",
        "rf_model.fit(X_train, y_train)\n",
        "\n",
        "y_pred_rf = rf_model.predict(X_test)\n",
        "\n",
        "print(\"Accuracy:\", accuracy_score(y_test, y_pred_rf))\n",
        "print(\"\\nClassification Report:\\n\", classification_report(y_test, y_pred_rf))\n",
        "print(\"\\nConfusion Matrix:\\n\", confusion_matrix(y_test, y_pred_rf))\n"
      ],
      "metadata": {
        "colab": {
          "base_uri": "https://localhost:8080/"
        },
        "id": "KnhGPjplD02U",
        "outputId": "5b402957-9ab6-46a7-9352-036b03771a07"
      },
      "execution_count": 27,
      "outputs": [
        {
          "output_type": "stream",
          "name": "stdout",
          "text": [
            "Accuracy: 0.807319942091929\n",
            "\n",
            "Classification Report:\n",
            "               precision    recall  f1-score   support\n",
            "\n",
            "           0       0.82      0.98      0.89     17684\n",
            "           1       0.58      0.14      0.22      4420\n",
            "\n",
            "    accuracy                           0.81     22104\n",
            "   macro avg       0.70      0.56      0.56     22104\n",
            "weighted avg       0.77      0.81      0.76     22104\n",
            "\n",
            "\n",
            "Confusion Matrix:\n",
            " [[17244   440]\n",
            " [ 3819   601]]\n"
          ]
        }
      ]
    },
    {
      "cell_type": "code",
      "source": [
        "# Create a sample input with the same columns as X_train\n",
        "sample_data = {\n",
        "    'Age': 45,\n",
        "    'Scholarship': 0,\n",
        "    'Hypertension': 1,\n",
        "    'Diabetes': 0,\n",
        "    'Alcoholism': 0,\n",
        "    'Handicap': 0,\n",
        "    'SMS_Received': 1,\n",
        "    'AppointmentWeekday': 2,  # Example for AppointmentWeekday (Tuesday)\n",
        "    'ScheduledWeekday': 3,  # Example for ScheduledWeekday (Wednesday)\n",
        "    'DaysBetween': 5,  # Example for DaysBetween\n",
        "    'Gender_M': 1,  # 1 for Male, 0 for Female (since drop_first=True)\n",
        "\n",
        "    # Add all neighbourhood columns with value 0 (or 1 if it's the correct neighbourhood for the sample)\n",
        "    'Neighbourhood_ANDORINHAS': 0,\n",
        "    'Neighbourhood_ANTÔNIO HONÓRIO': 0,\n",
        "    'Neighbourhood_ARIOVALDO FAVALESSA': 0,\n",
        "    'Neighbourhood_BARRO VERMELHO': 0,\n",
        "    'Neighbourhood_BELA VISTA': 0,\n",
        "    'Neighbourhood_BENTO FERREIRA': 0,\n",
        "    'Neighbourhood_BOA VISTA': 0,\n",
        "    'Neighbourhood_BONFIM': 0,\n",
        "    'Neighbourhood_CARATOÍRA': 0,\n",
        "    'Neighbourhood_CENTRO': 0,\n",
        "    'Neighbourhood_COMDUSA': 0,\n",
        "    'Neighbourhood_CONQUISTA': 0,\n",
        "    'Neighbourhood_CONSOLAÇÃO': 0,\n",
        "    'Neighbourhood_CRUZAMENTO': 0,\n",
        "    'Neighbourhood_DA PENHA': 0,\n",
        "    'Neighbourhood_DE LOURDES': 0,\n",
        "    'Neighbourhood_DO CABRAL': 0,\n",
        "    'Neighbourhood_DO MOSCOSO': 0,\n",
        "    'Neighbourhood_DO QUADRO': 0,\n",
        "    'Neighbourhood_ENSEADA DO SUÁ': 0,\n",
        "    'Neighbourhood_ESTRELINHA': 0,\n",
        "    'Neighbourhood_FONTE GRANDE': 0,\n",
        "    'Neighbourhood_FORTE SÃO JOÃO': 0,\n",
        "    'Neighbourhood_FRADINHOS': 0,\n",
        "    'Neighbourhood_GOIABEIRAS': 0,\n",
        "    'Neighbourhood_GRANDE VITÓRIA': 0,\n",
        "    'Neighbourhood_GURIGICA': 0,\n",
        "    'Neighbourhood_HORTO': 0,\n",
        "    'Neighbourhood_ILHA DAS CAIEIRAS': 0,\n",
        "    'Neighbourhood_ILHA DE SANTA MARIA': 0,\n",
        "    'Neighbourhood_ILHA DO BOI': 0,\n",
        "    'Neighbourhood_ILHA DO FRADE': 0,\n",
        "    'Neighbourhood_ILHA DO PRÍNCIPE': 0,\n",
        "    'Neighbourhood_ILHAS OCEÂNICAS DE TRINDADE': 0,\n",
        "    'Neighbourhood_INHANGUETÁ': 0,\n",
        "    'Neighbourhood_ITARARÉ': 0,\n",
        "    'Neighbourhood_JABOUR': 0,\n",
        "    'Neighbourhood_JARDIM CAMBURI': 0,\n",
        "    'Neighbourhood_JARDIM DA PENHA': 0,\n",
        "    'Neighbourhood_JESUS DE NAZARETH': 0,\n",
        "    'Neighbourhood_JOANA D´ARC': 0,\n",
        "    'Neighbourhood_JUCUTUQUARA': 0,\n",
        "    'Neighbourhood_MARIA ORTIZ': 0,\n",
        "    'Neighbourhood_MARUÍPE': 0,\n",
        "    'Neighbourhood_MATA DA PRAIA': 0,\n",
        "    'Neighbourhood_MONTE BELO': 0,\n",
        "    'Neighbourhood_MORADA DE CAMBURI': 0,\n",
        "    'Neighbourhood_MÁRIO CYPRESTE': 0,\n",
        "    'Neighbourhood_NAZARETH': 0,\n",
        "    'Neighbourhood_NOVA PALESTINA': 0,\n",
        "    'Neighbourhood_PARQUE INDUSTRIAL': 0,\n",
        "    'Neighbourhood_PARQUE MOSCOSO': 0,\n",
        "    'Neighbourhood_PIEDADE': 0,\n",
        "    'Neighbourhood_PONTAL DE CAMBURI': 0,\n",
        "    'Neighbourhood_PRAIA DO CANTO': 0,\n",
        "    'Neighbourhood_PRAIA DO SUÁ': 0,\n",
        "    'Neighbourhood_REDENÇÃO': 0,\n",
        "    'Neighbourhood_REPÚBLICA': 0,\n",
        "    'Neighbourhood_RESISTÊNCIA': 0,\n",
        "    'Neighbourhood_ROMÃO': 0,\n",
        "    'Neighbourhood_SANTA CECÍLIA': 0,\n",
        "    'Neighbourhood_SANTA CLARA': 0,\n",
        "    'Neighbourhood_SANTA HELENA': 0,\n",
        "    'Neighbourhood_SANTA LUÍZA': 0,\n",
        "    'Neighbourhood_SANTA LÚCIA': 0,\n",
        "    'Neighbourhood_SANTA MARTHA': 0,\n",
        "    'Neighbourhood_SANTA TEREZA': 0,\n",
        "    'Neighbourhood_SANTO ANDRÉ': 0,\n",
        "    'Neighbourhood_SANTO ANTÔNIO': 0,\n",
        "    'Neighbourhood_SANTOS DUMONT': 0,\n",
        "    'Neighbourhood_SANTOS REIS': 0,\n",
        "    'Neighbourhood_SEGURANÇA DO LAR': 0,\n",
        "    'Neighbourhood_SOLON BORGES': 0,\n",
        "    'Neighbourhood_SÃO BENEDITO': 0,\n",
        "    'Neighbourhood_SÃO CRISTÓVÃO': 0,\n",
        "    'Neighbourhood_SÃO JOSÉ': 0,\n",
        "    'Neighbourhood_SÃO PEDRO': 0,\n",
        "    'Neighbourhood_TABUAZEIRO': 0,\n",
        "    'Neighbourhood_UNIVERSITÁRIO': 0,\n",
        "    'Neighbourhood_VILA RUBIM': 0,\n",
        "\n",
        "    # Add missing columns: AppointmentID and PatientId (set to 0 or placeholder)\n",
        "    'AppointmentID': 0,\n",
        "    'PatientId': 0\n",
        "}\n",
        "\n",
        "# Convert to DataFrame\n",
        "sample_df = pd.DataFrame([sample_data])\n",
        "\n",
        "# Ensure sample_df has the same columns as X_train (including order)\n",
        "sample_df = sample_df[X_train.columns]\n",
        "\n",
        "# Make prediction\n",
        "prediction = model.predict(sample_df)\n",
        "print(\"Predicted Class:\", prediction[0])  # 0 = Showed up, 1 = No-show\n"
      ],
      "metadata": {
        "colab": {
          "base_uri": "https://localhost:8080/"
        },
        "id": "irRmPL3INrp7",
        "outputId": "643763c6-eb37-4959-d222-6a823b20d363"
      },
      "execution_count": 35,
      "outputs": [
        {
          "output_type": "stream",
          "name": "stdout",
          "text": [
            "Predicted Class: 1\n"
          ]
        }
      ]
    },
    {
      "cell_type": "code",
      "source": [
        "prob = model.predict_proba(sample_df)\n",
        "print(f\"Probability of Showed up: {prob[0][0]:.4f}\")\n",
        "print(f\"Probability of No-show: {prob[0][1]:.4f}\")\n"
      ],
      "metadata": {
        "colab": {
          "base_uri": "https://localhost:8080/"
        },
        "id": "cPlxh4t6N7Zn",
        "outputId": "a1a26d3d-46eb-427f-d895-7cdea8319458"
      },
      "execution_count": 36,
      "outputs": [
        {
          "output_type": "stream",
          "name": "stdout",
          "text": [
            "Probability of Showed up: 0.3833\n",
            "Probability of No-show: 0.6167\n"
          ]
        }
      ]
    },
    {
      "cell_type": "code",
      "source": [
        "# Group by SMS_Received and calculate the No-show rate\n",
        "sms_trend = df.groupby('SMS_Received')['No_Show'].mean()\n",
        "sms_trend = sms_trend * 100  # Convert to percentage\n",
        "print(\"No-show Rate by SMS Reminder:\")\n",
        "print(sms_trend)\n"
      ],
      "metadata": {
        "colab": {
          "base_uri": "https://localhost:8080/"
        },
        "id": "fTHO8alzPkcB",
        "outputId": "57afd4b6-6b5e-44d1-c57b-d7710b97dcf6"
      },
      "execution_count": 37,
      "outputs": [
        {
          "output_type": "stream",
          "name": "stdout",
          "text": [
            "No-show Rate by SMS Reminder:\n",
            "SMS_Received\n",
            "0    16.700872\n",
            "1    27.575322\n",
            "Name: No_Show, dtype: float64\n"
          ]
        }
      ]
    },
    {
      "cell_type": "code",
      "source": [
        "# Create age bins\n",
        "age_bins = [0, 18, 30, 40, 50, 60, 100]\n",
        "age_labels = ['0-18', '19-30', '31-40', '41-50', '51-60', '60+']\n",
        "df['AgeGroup'] = pd.cut(df['Age'], bins=age_bins, labels=age_labels, right=False)\n",
        "\n",
        "# Group by AgeGroup and calculate No-show rate\n",
        "age_trend = df.groupby('AgeGroup')['No_Show'].mean()\n",
        "age_trend = age_trend * 100  # Convert to percentage\n",
        "print(\"No-show Rate by Age Group:\")\n",
        "print(age_trend)\n"
      ],
      "metadata": {
        "colab": {
          "base_uri": "https://localhost:8080/"
        },
        "id": "9ve_LXzGO5OZ",
        "outputId": "94a8ab37-015b-40bb-9779-728a754ed213"
      },
      "execution_count": 38,
      "outputs": [
        {
          "output_type": "stream",
          "name": "stdout",
          "text": [
            "No-show Rate by Age Group:\n",
            "AgeGroup\n",
            "0-18     21.903649\n",
            "19-30    24.648855\n",
            "31-40    21.752027\n",
            "41-50    20.268844\n",
            "51-60    17.499842\n",
            "60+      15.305737\n",
            "Name: No_Show, dtype: float64\n"
          ]
        },
        {
          "output_type": "stream",
          "name": "stderr",
          "text": [
            "<ipython-input-38-1c176cd078ad>:7: FutureWarning: The default of observed=False is deprecated and will be changed to True in a future version of pandas. Pass observed=False to retain current behavior or observed=True to adopt the future default and silence this warning.\n",
            "  age_trend = df.groupby('AgeGroup')['No_Show'].mean()\n"
          ]
        }
      ]
    },
    {
      "cell_type": "code",
      "source": [
        "# Group by AppointmentWeekday and calculate No-show rate\n",
        "weekday_trend = df.groupby('AppointmentWeekday')['No_Show'].mean()\n",
        "weekday_trend = weekday_trend * 100  # Convert to percentage\n",
        "print(\"No-show Rate by Weekday:\")\n",
        "print(weekday_trend)\n"
      ],
      "metadata": {
        "colab": {
          "base_uri": "https://localhost:8080/"
        },
        "id": "bYJsyORpPnbe",
        "outputId": "f9583f9c-9565-4542-ccea-98c4f9a9fa7b"
      },
      "execution_count": 39,
      "outputs": [
        {
          "output_type": "stream",
          "name": "stdout",
          "text": [
            "No-show Rate by Weekday:\n",
            "AppointmentWeekday\n",
            "0    20.645474\n",
            "1    20.094387\n",
            "2    19.689179\n",
            "3    19.345859\n",
            "4    21.227258\n",
            "5    23.076923\n",
            "Name: No_Show, dtype: float64\n"
          ]
        }
      ]
    },
    {
      "cell_type": "code",
      "source": [
        "import matplotlib.pyplot as plt\n",
        "\n",
        "# SMS Trend Plot\n",
        "sms_trend.plot(kind='bar', title='No-show Rate by SMS Reminder', xlabel='SMS Received', ylabel='No-show Rate (%)')\n",
        "plt.show()"
      ],
      "metadata": {
        "colab": {
          "base_uri": "https://localhost:8080/",
          "height": 467
        },
        "id": "IDBbpTrtPpSJ",
        "outputId": "70d9783c-3c98-4131-caaf-2c79b4a026aa"
      },
      "execution_count": 40,
      "outputs": [
        {
          "output_type": "display_data",
          "data": {
            "text/plain": [
              "<Figure size 640x480 with 1 Axes>"
            ],
            "image/png": "[encoded data removed]"
          },
          "metadata": {}
        }
      ]
    },
    {
      "cell_type": "code",
      "source": [
        "# Age Trend Plot\n",
        "age_trend.plot(kind='bar', title='No-show Rate by Age Group', xlabel='Age Group', ylabel='No-show Rate (%)')\n",
        "plt.show()"
      ],
      "metadata": {
        "colab": {
          "base_uri": "https://localhost:8080/",
          "height": 498
        },
        "id": "chk3ojmoPvPJ",
        "outputId": "6e2eac2b-1bec-4feb-faed-d242072b1020"
      },
      "execution_count": 41,
      "outputs": [
        {
          "output_type": "display_data",
          "data": {
            "text/plain": [
              "<Figure size 640x480 with 1 Axes>"
            ],
            "image/png": "[encoded data removed]"
          },
          "metadata": {}
        }
      ]
    },
    {
      "cell_type": "code",
      "source": [
        "# Weekday Trend Plot\n",
        "weekday_trend.plot(kind='bar', title='No-show Rate by Weekday', xlabel='Weekday', ylabel='No-show Rate (%)')\n",
        "plt.show()"
      ],
      "metadata": {
        "colab": {
          "base_uri": "https://localhost:8080/",
          "height": 467
        },
        "id": "Ny0VnKZ1P7nH",
        "outputId": "ab5ba877-f833-4ccc-8e32-019309689007"
      },
      "execution_count": 42,
      "outputs": [
        {
          "output_type": "display_data",
          "data": {
            "text/plain": [
              "<Figure size 640x480 with 1 Axes>"
            ],
            "image/png": "[encoded data removed]"
          },
          "metadata": {}
        }
      ]
    },
    {
      "cell_type": "code",
      "source": [
        "df.to_csv('new_dataset.csv',index=False)"
      ],
      "metadata": {
        "id": "dR7k8qMGP_5f"
      },
      "execution_count": 44,
      "outputs": []
    },
    {
      "cell_type": "code",
      "source": [],
      "metadata": {
        "id": "GHqJberPQLL9"
      },
      "execution_count": null,
      "outputs": []
    }
  ]
}